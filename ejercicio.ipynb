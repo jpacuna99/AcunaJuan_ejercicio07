{
 "cells": [
  {
   "cell_type": "code",
   "execution_count": 18,
   "metadata": {},
   "outputs": [
    {
     "name": "stdout",
     "output_type": "stream",
     "text": [
      "0.3598032471229786 2.6238837588169495\n"
     ]
    },
    {
     "data": {
      "text/plain": [
       "\"\\n\\npost = posterior(mu, X[:,0], sigma)\\n\\nmax, incertidumbre = maximo_incertidumbre(mu, np.log(post))\\n\\n\\nplt.figure()\\nplt.plot(mu, post)\\nplt.title('$\\\\mu$= {:.2f} $\\\\pm$ {:.2f}'.format(max, incertidumbre))\\nplt.xlabel('$\\\\mu$')\\nplt.ylabel('prob($\\\\mu$|datos)')\\nplt.savefig('mean.png')\\n\""
      ]
     },
     "execution_count": 18,
     "metadata": {},
     "output_type": "execute_result"
    },
    {
     "data": {
      "image/png": "[encoded data removed]",
      "text/plain": [
       "<Figure size 432x288 with 4 Axes>"
      ]
     },
     "metadata": {
      "needs_background": "light"
     },
     "output_type": "display_data"
    }
   ],
   "source": [
    "import numpy as np\n",
    "import matplotlib.pyplot as plt\n",
    "\n",
    "def prior(mu):\n",
    "    \"\"\"\n",
    "    Densidad de probabilidad de mu\n",
    "    \"\"\"\n",
    "    p = np.ones(len(mu))/(mu.max()-mu.min())\n",
    "    return p\n",
    "\n",
    "def like(x, sigma, mu):\n",
    "    \"\"\"\n",
    "    Likelihod de tener un dato x e incertidumbre sigma\n",
    "    \"\"\"\n",
    "    L = np.ones(len(mu))\n",
    "    for x_i in (x):\n",
    "        L *= (1.0/np.sqrt(2.0*np.pi*sigma**2))*np.exp(-0.5*(x_i-mu)**2/(sigma**2))\n",
    "    return L\n",
    "\n",
    "def posterior(mu, x, sigma):\n",
    "    \"\"\"\n",
    "    Posterior calculado con la normalizacion adecuada\n",
    "    \"\"\"\n",
    "    post =  like(x, sigma, mu) * prior(mu)\n",
    "    evidencia = np.trapz(post, mu)\n",
    "    return  post/evidencia\n",
    "\n",
    "def estimados(x,y,sigma):\n",
    "    w=2./sigma**2\n",
    "    alfa=w*np.sum(x**2)\n",
    "    beta=len(x)*w\n",
    "    gamma=np.sum(x)*w\n",
    "    p=np.sum(x*y)*w\n",
    "    q=np.sum(y)*w\n",
    "    m=(beta*p-gamma*q)/(alfa*beta-gamma**2)\n",
    "    c=(alfa*q-gamma*p)/(alfa*beta-gamma**2)\n",
    "    return m,c\n",
    "\n",
    "def maximo_incertidumbre(x, y):\n",
    "    deltax = x[1] - x[0]\n",
    "\n",
    "    # maximo de y\n",
    "    ii = np.argmax(y)\n",
    "\n",
    "    # segunda derivada\n",
    "    d = (y[ii+1] - 2*y[ii] + y[ii-1]) / (deltax**2)\n",
    "\n",
    "    return x[ii], 1.0/np.sqrt(-d)\n",
    "    \n",
    "\n",
    "data = np.loadtxt(\"notas_andes.dat\", skiprows=1)\n",
    "Y = data[:,4]\n",
    "X = data[:,:4]\n",
    "mu = np.linspace(1E-4, 10.0, 1000)\n",
    "sigma=0.1\n",
    "\n",
    "m1,c1=estimados(X[:,0],Y,sigma)\n",
    "\n",
    "print (m1,c1)\n",
    "\n",
    "\n",
    "plt.figure()\n",
    "for i in range(4):\n",
    "    plt.subplot(2,2,i+1)\n",
    "    xf=np.linspace(np.amin(X[:,i]),np.amax(X[:,i]),1000)\n",
    "    m,c=estimados(X[:,i],Y,sigma)\n",
    "    plt.scatter(X[:,i], Y)\n",
    "    plt.plot(xf,m*xf+c)\n",
    "    plt.title(\"hola\")\n",
    "    plt.xlabel(\"x\")\n",
    "  \n",
    "\n",
    "plt.subplots_adjust(hspace=0.5)\n",
    "plt.savefig(\"bayes.png\", bbox_inches='tight')\n",
    "\n",
    "\"\"\"\n",
    "\n",
    "post = posterior(mu, X[:,0], sigma)\n",
    "\n",
    "max, incertidumbre = maximo_incertidumbre(mu, np.log(post))\n",
    "\n",
    "\n",
    "plt.figure()\n",
    "plt.plot(mu, post)\n",
    "plt.title('$\\mu$= {:.2f} $\\pm$ {:.2f}'.format(max, incertidumbre))\n",
    "plt.xlabel('$\\mu$')\n",
    "plt.ylabel('prob($\\mu$|datos)')\n",
    "plt.savefig('mean.png')\n",
    "\"\"\""
   ]
  },
  {
   "cell_type": "code",
   "execution_count": null,
   "metadata": {},
   "outputs": [],
   "source": []
  }
 ],
 "metadata": {
  "kernelspec": {
   "display_name": "Python 3",
   "language": "python",
   "name": "python3"
  },
  "language_info": {
   "codemirror_mode": {
    "name": "ipython",
    "version": 3
   },
   "file_extension": ".py",
   "mimetype": "text/x-python",
   "name": "python",
   "nbconvert_exporter": "python",
   "pygments_lexer": "ipython3",
   "version": "3.7.6"
  }
 },
 "nbformat": 4,
 "nbformat_minor": 4
}
